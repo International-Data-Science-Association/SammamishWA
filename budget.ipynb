{
 "cells": [
  {
   "cell_type": "code",
   "execution_count": 3,
   "metadata": {},
   "outputs": [],
   "source": [
    "import pandas as pd"
   ]
  },
  {
   "cell_type": "code",
   "execution_count": 4,
   "metadata": {},
   "outputs": [],
   "source": [
    "revenue_sources = ['Property, Sales, REET, and other Taxes', 'Licenses & Permits','Gov\\'t. Grants & Shared Revenues',\n",
    "        'Direct Charges for Services Provided','Development & Court Fines','Interest Income, Rent, &  Miscellaneous']\n",
    "revenue_values_2017_2018 =  [78940000, 5106000, 12005700, 32808500, 558900, 2716080]\n",
    "revenue_values_2019_2020 = [ 85180000 , 4882000, 8814113, 30935600, 647000, 3970880]\n",
    "\n"
   ]
  },
  {
   "cell_type": "code",
   "execution_count": 5,
   "metadata": {},
   "outputs": [],
   "source": [
    "df = pd.DataFrame(list(zip(revenue_sources, revenue_values_2017_2018, revenue_values_2019_2020)), \n",
    "               columns =['Revenue Sources', '2017-2018', '2019-2020']) "
   ]
  },
  {
   "cell_type": "code",
   "execution_count": 6,
   "metadata": {},
   "outputs": [
    {
     "data": {
      "text/html": [
       "<div>\n",
       "<style scoped>\n",
       "    .dataframe tbody tr th:only-of-type {\n",
       "        vertical-align: middle;\n",
       "    }\n",
       "\n",
       "    .dataframe tbody tr th {\n",
       "        vertical-align: top;\n",
       "    }\n",
       "\n",
       "    .dataframe thead th {\n",
       "        text-align: right;\n",
       "    }\n",
       "</style>\n",
       "<table border=\"1\" class=\"dataframe\">\n",
       "  <thead>\n",
       "    <tr style=\"text-align: right;\">\n",
       "      <th></th>\n",
       "      <th>Revenue Sources</th>\n",
       "      <th>2017-2018</th>\n",
       "      <th>2019-2020</th>\n",
       "    </tr>\n",
       "  </thead>\n",
       "  <tbody>\n",
       "    <tr>\n",
       "      <th>0</th>\n",
       "      <td>Property, Sales, REET, and other Taxes</td>\n",
       "      <td>78940000</td>\n",
       "      <td>85180000</td>\n",
       "    </tr>\n",
       "    <tr>\n",
       "      <th>1</th>\n",
       "      <td>Licenses &amp; Permits</td>\n",
       "      <td>5106000</td>\n",
       "      <td>4882000</td>\n",
       "    </tr>\n",
       "    <tr>\n",
       "      <th>2</th>\n",
       "      <td>Gov't. Grants &amp; Shared Revenues</td>\n",
       "      <td>12005700</td>\n",
       "      <td>8814113</td>\n",
       "    </tr>\n",
       "    <tr>\n",
       "      <th>3</th>\n",
       "      <td>Direct Charges for Services Provided</td>\n",
       "      <td>32808500</td>\n",
       "      <td>30935600</td>\n",
       "    </tr>\n",
       "    <tr>\n",
       "      <th>4</th>\n",
       "      <td>Development &amp; Court Fines</td>\n",
       "      <td>558900</td>\n",
       "      <td>647000</td>\n",
       "    </tr>\n",
       "  </tbody>\n",
       "</table>\n",
       "</div>"
      ],
      "text/plain": [
       "                          Revenue Sources  2017-2018  2019-2020\n",
       "0  Property, Sales, REET, and other Taxes   78940000   85180000\n",
       "1                      Licenses & Permits    5106000    4882000\n",
       "2         Gov't. Grants & Shared Revenues   12005700    8814113\n",
       "3    Direct Charges for Services Provided   32808500   30935600\n",
       "4               Development & Court Fines     558900     647000"
      ]
     },
     "execution_count": 6,
     "metadata": {},
     "output_type": "execute_result"
    }
   ],
   "source": [
    "df.head()"
   ]
  },
  {
   "cell_type": "code",
   "execution_count": null,
   "metadata": {},
   "outputs": [],
   "source": []
  }
 ],
 "metadata": {
  "kernelspec": {
   "display_name": "Python 3",
   "language": "python",
   "name": "python3"
  },
  "language_info": {
   "codemirror_mode": {
    "name": "ipython",
    "version": 3
   },
   "file_extension": ".py",
   "mimetype": "text/x-python",
   "name": "python",
   "nbconvert_exporter": "python",
   "pygments_lexer": "ipython3",
   "version": "3.6.4"
  }
 },
 "nbformat": 4,
 "nbformat_minor": 2
}
